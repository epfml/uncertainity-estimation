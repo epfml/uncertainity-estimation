{
  "nbformat": 4,
  "nbformat_minor": 0,
  "metadata": {
    "colab": {
      "name": "0-1-interpolation-for-UE-evaluation.ipynb",
      "provenance": []
    },
    "kernelspec": {
      "name": "python3",
      "display_name": "Python 3"
    },
    "language_info": {
      "name": "python"
    }
  },
  "cells": [
    {
      "cell_type": "markdown",
      "metadata": {
        "id": "RhFZcSy7PhDV"
      },
      "source": [
        "# Imports"
      ]
    },
    {
      "cell_type": "code",
      "metadata": {
        "id": "_k-5hsOOPWY2"
      },
      "source": [
        "import torch\n",
        "import torch.nn as nn\n",
        "import torch.nn.functional as F\n",
        "import numpy as np\n",
        "from torchvision.datasets import MNIST\n",
        "from torchvision import transforms\n",
        "from torch.utils.data import TensorDataset, DataLoader\n",
        "import matplotlib.pyplot as plt\n",
        "import torchvision.utils as vision_utils\n",
        "from matplotlib.ticker import NullFormatter"
      ],
      "execution_count": 1,
      "outputs": []
    },
    {
      "cell_type": "code",
      "metadata": {
        "id": "vZ6e1uneSaWC"
      },
      "source": [
        "DEVICE = torch.device('cpu')"
      ],
      "execution_count": 3,
      "outputs": []
    },
    {
      "cell_type": "markdown",
      "metadata": {
        "id": "mcYbh_zyPkyH"
      },
      "source": [
        "# Load MNIST data"
      ]
    },
    {
      "cell_type": "code",
      "metadata": {
        "colab": {
          "base_uri": "https://localhost:8080/"
        },
        "id": "slLu0-FJPmzj",
        "outputId": "daaf1f7b-e6e7-459a-c567-89bc1cc0b2f7"
      },
      "source": [
        "def keep_only_lbls(dataset, lbls, device=None):\n",
        "  lbls = {lbl: i for i, lbl in enumerate(lbls)}\n",
        "  final_X, final_Y = [], []\n",
        "  for x, y in dataset:\n",
        "    if y in lbls:\n",
        "      final_X.append(x)\n",
        "      final_Y.append(lbls[y])\n",
        "  X = torch.stack(final_X)\n",
        "  Y = torch.tensor(final_Y).long()\n",
        "  if device is not None:\n",
        "    X = X.to(device)\n",
        "    Y = Y.to(device)\n",
        "  return torch.utils.data.TensorDataset(X, Y)\n",
        "\n",
        "\n",
        "data_train = MNIST('./data/mnist/', train = True, download = True, transform=transforms.ToTensor())\n",
        "data_train = keep_only_lbls(data_train, lbls=[0,1], device=DEVICE)\n",
        "data_train, data_valid = torch.utils.data.random_split(data_train, [10000,2665])\n",
        "\n",
        "data_test = MNIST('./data/mnist/', train = False, download = True, transform=transforms.ToTensor())\n",
        "data_test = keep_only_lbls(data_test, lbls=[0,1], device=DEVICE)\n",
        "\n",
        "train_dl = DataLoader(data_train, batch_size=256, shuffle=True)\n",
        "valid_dl = DataLoader(data_valid, batch_size=1024, shuffle=False)\n",
        "test_dl = DataLoader(data_test, batch_size=1024, shuffle=False)\n",
        "\n",
        "print(f\"Train length: {len(train_dl.dataset)}\")\n",
        "print(f\"Valid length: {len(valid_dl.dataset)}\")\n",
        "print(f\"Test length: {len(test_dl.dataset)}\")"
      ],
      "execution_count": 24,
      "outputs": [
        {
          "output_type": "stream",
          "name": "stdout",
          "text": [
            "Train length: 10000\n",
            "Valid length: 2665\n",
            "Test length: 2115\n"
          ]
        }
      ]
    },
    {
      "cell_type": "markdown",
      "metadata": {
        "id": "nTNkvCQHQBlw"
      },
      "source": [
        "# Build interpolated dataset"
      ]
    },
    {
      "cell_type": "code",
      "metadata": {
        "id": "HGAIDnDHQM4_"
      },
      "source": [
        "def plot_samples(X):\n",
        "  fig = plt.figure(figsize=(10,7), dpi=130)\n",
        "  grid_img = vision_utils.make_grid(X[:26].cpu(), nrow=13, normalize=True, padding=1)\n",
        "  _ = plt.imshow(grid_img.permute(1, 2, 0), interpolation='nearest')\n",
        "  _ = plt.tick_params(axis=u'both', which=u'both',length=0)\n",
        "  ax = plt.gca()\n",
        "  _ = ax.xaxis.set_major_formatter(NullFormatter()) \n",
        "  _ = ax.yaxis.set_major_formatter(NullFormatter()) \n",
        "  plt.show()\n",
        "\n",
        "def build_interpolated_dataset(dl, max_pairs=500, num_ts=150, device=torch.device('cpu')):\n",
        "  X_test, Y_test = dl.dataset.tensors\n",
        "\n",
        "  X_test_0 = X_test[Y_test == 0]\n",
        "  X_test_1 = X_test[Y_test == 1]\n",
        "\n",
        "  ts = torch.tensor(np.linspace(0, 1, num_ts)) * 3 - 1\n",
        "\n",
        "  new_X_test, ts_test = [], []\n",
        "\n",
        "  with torch.no_grad():\n",
        "    for x_0, x_1 in zip(X_test_0[:max_pairs], X_test_1[:max_pairs]):\n",
        "      for t in ts:\n",
        "        x = t * x_1 + (1-t) * x_0\n",
        "        new_X_test.append(x.cpu())\n",
        "        ts_test.append(t.item())\n",
        "\n",
        "  X_test = torch.stack(new_X_test).to(device)\n",
        "  \n",
        "  return X_test, ts_test"
      ],
      "execution_count": 27,
      "outputs": []
    },
    {
      "cell_type": "code",
      "metadata": {
        "colab": {
          "base_uri": "https://localhost:8080/",
          "height": 200
        },
        "id": "o4I2PChySPtf",
        "outputId": "0c035be2-0db1-4fbd-f99e-e79269f55abb"
      },
      "source": [
        "X_test, ts_test = build_interpolated_dataset(test_dl, max_pairs=1, num_ts=26, device=DEVICE)\n",
        "plot_samples(X_test)"
      ],
      "execution_count": 28,
      "outputs": [
        {
          "output_type": "display_data",
          "data": {
            "image/png": "[encoded data removed]",
            "text/plain": [
              "<Figure size 1300x910 with 1 Axes>"
            ]
          },
          "metadata": {
            "needs_background": "light"
          }
        }
      ]
    },
    {
      "cell_type": "code",
      "metadata": {
        "id": "VLmF1pb_QASp"
      },
      "source": [
        "X_test, ts_test = build_interpolated_dataset(test_dl, device=DEVICE)"
      ],
      "execution_count": 29,
      "outputs": []
    },
    {
      "cell_type": "markdown",
      "metadata": {
        "id": "2A4FM9R8VVF5"
      },
      "source": [
        "`X_test` consists in the interpolated $x$: $t \\cdot x^{1} + (1-t) \\cdot x^{0}$ for $t \\in [-1,2]$ \\\n",
        "`ts_test` consists in the associated $t$ values"
      ]
    },
    {
      "cell_type": "markdown",
      "metadata": {
        "id": "KrqwYodFWRQS"
      },
      "source": [
        "# Train a dummy classifier"
      ]
    },
    {
      "cell_type": "code",
      "metadata": {
        "colab": {
          "base_uri": "https://localhost:8080/"
        },
        "id": "Uff4AkgDQAWX",
        "outputId": "7201341e-ecf5-4834-a4fc-cd394854c558"
      },
      "source": [
        "net = nn.Sequential(nn.Flatten(1), nn.Linear(28*28, 100), nn.ReLU(), nn.Linear(100, 2))\n",
        "\n",
        "opt = torch.optim.SGD(params=net.parameters(), lr=0.1)\n",
        "\n",
        "for epoch in range(5):\n",
        "  for x, y in train_dl:\n",
        "    loss = F.cross_entropy(net(x), y)\n",
        "    opt.zero_grad()\n",
        "    loss.backward()\n",
        "    opt.step()\n",
        "\n",
        "  print(f\"epoch {epoch}: train loss {loss.item():.3f}\")"
      ],
      "execution_count": 45,
      "outputs": [
        {
          "output_type": "stream",
          "name": "stdout",
          "text": [
            "epoch 0: train loss 0.011\n",
            "epoch 1: train loss 0.021\n",
            "epoch 2: train loss 0.003\n",
            "epoch 3: train loss 0.224\n",
            "epoch 4: train loss 0.002\n"
          ]
        }
      ]
    },
    {
      "cell_type": "markdown",
      "metadata": {
        "id": "XASRJufybUp_"
      },
      "source": [
        "# Get probabilities on test"
      ]
    },
    {
      "cell_type": "code",
      "metadata": {
        "id": "_4XKJDtMbT7u"
      },
      "source": [
        "with torch.no_grad():\n",
        "  probas = torch.softmax(net(X_test), dim=1)"
      ],
      "execution_count": 46,
      "outputs": []
    },
    {
      "cell_type": "markdown",
      "metadata": {
        "id": "CnbGFQFXa9wl"
      },
      "source": [
        "# Check the entropy given t"
      ]
    },
    {
      "cell_type": "code",
      "metadata": {
        "id": "rLT_WbF_bSPw"
      },
      "source": [
        "with torch.no_grad():\n",
        "  entropy = (-(probas * (probas+1e-8).log())).sum(dim=1).numpy()"
      ],
      "execution_count": 47,
      "outputs": []
    },
    {
      "cell_type": "code",
      "metadata": {
        "id": "Fswb2AXndMDI"
      },
      "source": [
        "ts = sorted(list(set(ts_test)))\n",
        "\n",
        "t2idx = {t:idx for idx, t in enumerate(ts)}\n",
        "entropy_per_t = [[] for _ in range(len(t2idx))] \n",
        "\n",
        "for t, p in zip(ts_test, entropy):\n",
        "  idx = t2idx[t]\n",
        "  entropy_per_t[idx].append(p)\n",
        "\n",
        "entropy_per_t = [np.mean(x) for x in entropy_per_t]"
      ],
      "execution_count": 48,
      "outputs": []
    },
    {
      "cell_type": "code",
      "metadata": {
        "colab": {
          "base_uri": "https://localhost:8080/",
          "height": 352
        },
        "id": "RudYTRhHQAZ9",
        "outputId": "148b09ca-bf86-4ec2-8161-759bad709cba"
      },
      "source": [
        "fig, (ax) = plt.subplots(1,1,figsize=(4,3), dpi=110)\n",
        "\n",
        "ax.grid()\n",
        "\n",
        "ax.set_xlabel(\"$t$\")\n",
        "ax.set_ylabel(\"uncertainty (entropy)\")\n",
        "\n",
        "ax.plot(ts, entropy_per_t)"
      ],
      "execution_count": 51,
      "outputs": [
        {
          "output_type": "execute_result",
          "data": {
            "text/plain": [
              "[<matplotlib.lines.Line2D at 0x7fe4b502c410>]"
            ]
          },
          "metadata": {},
          "execution_count": 51
        },
        {
          "output_type": "display_data",
          "data": {
            "image/png": "[encoded data removed]",
            "text/plain": [
              "<Figure size 440x330 with 1 Axes>"
            ]
          },
          "metadata": {
            "needs_background": "light"
          }
        }
      ]
    },
    {
      "cell_type": "code",
      "metadata": {
        "id": "DJzJoXoTQAej"
      },
      "source": [
        ""
      ],
      "execution_count": null,
      "outputs": []
    }
  ]
}